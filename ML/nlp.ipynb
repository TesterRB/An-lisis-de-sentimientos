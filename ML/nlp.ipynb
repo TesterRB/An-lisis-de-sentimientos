{
 "cells": [
  {
   "cell_type": "code",
   "execution_count": 1,
   "metadata": {},
   "outputs": [],
   "source": [
    "import string\n",
    "import re\n",
    "import pandas as pd\n",
    "import spacy\n",
    "from spacy.lang.es.stop_words import STOP_WORDS\n",
    "from sklearn.feature_extraction.text import TfidfVectorizer\n",
    "from sklearn.pipeline import Pipeline\n",
    "from sklearn.model_selection import cross_val_score\n",
    "from sklearn.model_selection import train_test_split\n",
    "from sklearn.metrics import confusion_matrix, accuracy_score, classification_report\n",
    "from sklearn.svm import LinearSVC\n",
    "import joblib"
   ]
  },
  {
   "cell_type": "code",
   "execution_count": 2,
   "metadata": {},
   "outputs": [],
   "source": [
    "nlp = spacy.load(\"es_core_news_sm\")"
   ]
  },
  {
   "cell_type": "code",
   "execution_count": 46,
   "metadata": {},
   "outputs": [],
   "source": [
    "entrenamiento = pd.read_csv(\"dataset_entrenamiento.csv\")\n",
    "entrenamiento.dropna(inplace=True)"
   ]
  },
  {
   "cell_type": "code",
   "execution_count": 13,
   "metadata": {},
   "outputs": [],
   "source": [
    "puntuaciones = string.punctuation + \"¡¿\"\n",
    "stopwords = set(STOP_WORDS)\n",
    "\n",
    "def limpieza_de_datos(oracion):\n",
    "    # Eliminar emojis utilizando expresiones regulares\n",
    "    oracion = re.sub(r'[^\\w\\s,]', '', oracion)\n",
    "    \n",
    "    doc = nlp(oracion)\n",
    "    \n",
    "    tokens_limpios = []\n",
    "    for token in doc:\n",
    "        # Ignorar tokens de longitud uno y caracteres no alfabéticos\n",
    "        if token.is_alpha and len(token.text) > 1:\n",
    "            # Convertir a minusculas y lematizar sustantivos y adjetivos\n",
    "            if token.lemma_ != \"-PRON-\" and token.pos_ in ['NOUN', 'ADJ']:\n",
    "                temp = token.lemma_.lower().strip()\n",
    "            else:\n",
    "                temp = token.lower_\n",
    "            \n",
    "            # Filtrar stopwords y puntuaciones\n",
    "            if temp not in stopwords and temp not in puntuaciones:\n",
    "                tokens_limpios.append(temp)\n",
    "    \n",
    "    return tokens_limpios"
   ]
  },
  {
   "cell_type": "code",
   "execution_count": 14,
   "metadata": {},
   "outputs": [],
   "source": [
    "tfidf = TfidfVectorizer(tokenizer=limpieza_de_datos, # Se utiliza la funcion de limpieza de datos como tokenizador\n",
    "                        max_features=1000000,   # Incrementa el número máximo de características\n",
    "                        ngram_range=(1, 3),     # Incluye trigramas además de unigramas y bigramas\n",
    "                        max_df=0.4,             # Reduce el umbral para palabras muy frecuentes\n",
    "                        min_df=5,               # Incrementa el umbral para palabras poco frecuentes\n",
    "                        use_idf=True,           # Aplica la ponderación IDF\n",
    "                        smooth_idf=True,        # Suaviza las ponderaciones IDF\n",
    "                        sublinear_tf=True)      # Aplica escala logarítmica a las frecuencias de términos\n",
    "\n",
    "# Clasificador SVM lineal\n",
    "classifier = LinearSVC(C=1.0,                    # Parámetro de regularización\n",
    "                       class_weight='balanced',  # Ajusta automáticamente los pesos de clase\n",
    "                       dual=False,               # Usa la formulación primal\n",
    "                       max_iter=1000000,         # Incrementa el número máximo de iteraciones\n",
    "                       random_state=42)          # Semilla aleatoria para reproducibilidad"
   ]
  },
  {
   "cell_type": "code",
   "execution_count": 15,
   "metadata": {},
   "outputs": [],
   "source": [
    "X = entrenamiento[\"comentario\"]\n",
    "y = entrenamiento[\"sentimiento\"]"
   ]
  },
  {
   "cell_type": "code",
   "execution_count": 16,
   "metadata": {},
   "outputs": [
    {
     "data": {
      "text/plain": [
       "((51726,), (5748,), (51726,), (5748,))"
      ]
     },
     "execution_count": 16,
     "metadata": {},
     "output_type": "execute_result"
    }
   ],
   "source": [
    "X_train, X_test, y_train, y_test = train_test_split(X, y, test_size=0.1, random_state=42)\n",
    "X_train.shape, X_test.shape, y_train.shape, y_test.shape"
   ]
  },
  {
   "cell_type": "code",
   "execution_count": 17,
   "metadata": {},
   "outputs": [],
   "source": [
    "clf = Pipeline([('tfidf', tfidf), ('clf', classifier)])"
   ]
  },
  {
   "cell_type": "code",
   "execution_count": 18,
   "metadata": {},
   "outputs": [],
   "source": [
    "#evitar que el formato se tome como unknown\n",
    "y_train = y_train.astype('int')\n",
    "y_test = y_test.astype('int')"
   ]
  },
  {
   "cell_type": "code",
   "execution_count": null,
   "metadata": {},
   "outputs": [],
   "source": [
    "clf.fit(X_train, y_train)"
   ]
  },
  {
   "cell_type": "code",
   "execution_count": 20,
   "metadata": {},
   "outputs": [
    {
     "data": {
      "text/plain": [
       "(5748,)"
      ]
     },
     "execution_count": 20,
     "metadata": {},
     "output_type": "execute_result"
    }
   ],
   "source": [
    "y_prediccion = clf.predict(X_test)\n",
    "y_prediccion.shape"
   ]
  },
  {
   "cell_type": "code",
   "execution_count": 21,
   "metadata": {},
   "outputs": [
    {
     "name": "stdout",
     "output_type": "stream",
     "text": [
      "              precision    recall  f1-score   support\n",
      "\n",
      "           0       0.83      0.81      0.82      1912\n",
      "           1       0.83      0.80      0.81      1924\n",
      "           2       0.77      0.82      0.79      1912\n",
      "\n",
      "    accuracy                           0.81      5748\n",
      "   macro avg       0.81      0.81      0.81      5748\n",
      "weighted avg       0.81      0.81      0.81      5748\n",
      "\n"
     ]
    }
   ],
   "source": [
    "print(classification_report(y_test, y_prediccion))"
   ]
  },
  {
   "cell_type": "code",
   "execution_count": 25,
   "metadata": {},
   "outputs": [
    {
     "data": {
      "text/plain": [
       "array([0])"
      ]
     },
     "execution_count": 25,
     "metadata": {},
     "output_type": "execute_result"
    }
   ],
   "source": [
    "clf.predict([\"Tiene muchas cosas por mejorar\"])"
   ]
  },
  {
   "cell_type": "code",
   "execution_count": 44,
   "metadata": {},
   "outputs": [
    {
     "data": {
      "text/plain": [
       "array([2])"
      ]
     },
     "execution_count": 44,
     "metadata": {},
     "output_type": "execute_result"
    }
   ],
   "source": [
    "clf.predict([\"muy normal\"])"
   ]
  },
  {
   "cell_type": "code",
   "execution_count": 23,
   "metadata": {},
   "outputs": [
    {
     "data": {
      "text/plain": [
       "['emotion_clf.pkl']"
      ]
     },
     "execution_count": 23,
     "metadata": {},
     "output_type": "execute_result"
    }
   ],
   "source": [
    "joblib.dump(clf, \"emotion_clf.pkl\")"
   ]
  }
 ],
 "metadata": {
  "kernelspec": {
   "display_name": "Python 3",
   "language": "python",
   "name": "python3"
  },
  "language_info": {
   "codemirror_mode": {
    "name": "ipython",
    "version": 3
   },
   "file_extension": ".py",
   "mimetype": "text/x-python",
   "name": "python",
   "nbconvert_exporter": "python",
   "pygments_lexer": "ipython3",
   "version": "3.10.6"
  }
 },
 "nbformat": 4,
 "nbformat_minor": 2
}
